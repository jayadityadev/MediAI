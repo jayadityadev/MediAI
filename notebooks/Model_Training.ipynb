{
 "cells": [
  {
   "cell_type": "code",
   "execution_count": 51,
   "metadata": {},
   "outputs": [],
   "source": [
    "from sklearn.model_selection import train_test_split\n",
    "import pandas as pd\n",
    "import pickle\n",
    "\n",
    "scaler = pickle.load(open(\"../models/scaler.pkl\", \"rb\"))\n",
    "df = pd.read_csv(\"../datasets/diabetes_data_preprocessed.csv\")\n",
    "# Separate features (X) and target variable (y)\n",
    "X = df.drop(columns=[\"Risk_Level\"])\n",
    "y = df[\"Risk_Level\"]\n",
    "\n",
    "# Split into training (80%) and testing (20%)\n",
    "X_train, X_test, y_train, y_test = train_test_split(X, y, test_size=0.2, random_state=42, stratify=y)"
   ]
  },
  {
   "cell_type": "code",
   "execution_count": 52,
   "metadata": {},
   "outputs": [],
   "source": [
    "from sklearn.ensemble import RandomForestClassifier\n",
    "from sklearn.metrics import accuracy_score, classification_report\n",
    "\n",
    "# Initialize the model\n",
    "model = RandomForestClassifier(n_estimators=100, random_state=42)\n",
    "\n",
    "# Train the model\n",
    "model.fit(X_train, y_train)\n",
    "\n",
    "# Make predictions on the test set\n",
    "y_pred = model.predict(X_test)"
   ]
  },
  {
   "cell_type": "code",
   "execution_count": 53,
   "metadata": {},
   "outputs": [
    {
     "name": "stdout",
     "output_type": "stream",
     "text": [
      "Model Accuracy: 0.9935064935064936\n",
      "\n",
      "Classification Report:\n",
      "               precision    recall  f1-score   support\n",
      "\n",
      "        High       0.99      1.00      1.00       145\n",
      "         Low       1.00      0.89      0.94         9\n",
      "\n",
      "    accuracy                           0.99       154\n",
      "   macro avg       1.00      0.94      0.97       154\n",
      "weighted avg       0.99      0.99      0.99       154\n",
      "\n"
     ]
    }
   ],
   "source": [
    "# Evaluate the model\n",
    "print(\"Model Accuracy:\", accuracy_score(y_test, y_pred))\n",
    "print(\"\\nClassification Report:\\n\", classification_report(y_test, y_pred))"
   ]
  },
  {
   "cell_type": "code",
   "execution_count": 54,
   "metadata": {},
   "outputs": [],
   "source": [
    "import pickle\n",
    "\n",
    "# Save the trained model\n",
    "with open(\"../models/diabetes_risk_model.pkl\", \"wb\") as f:\n",
    "    pickle.dump(model, f)\n",
    "\n",
    "# Save the scaler\n",
    "with open(\"../models/scaler.pkl\", \"wb\") as f:\n",
    "    pickle.dump(scaler, f)"
   ]
  },
  {
   "cell_type": "code",
   "execution_count": 5,
   "metadata": {},
   "outputs": [
    {
     "name": "stdout",
     "output_type": "stream",
     "text": [
      "Predicted Risk Level: Low\n",
      "Health Recommendation: Maintain a healthy lifestyle with regular exercise and a balanced diet.\n"
     ]
    },
    {
     "name": "stderr",
     "output_type": "stream",
     "text": [
      "/home/jayaditya/Projects/MediAI/.venv/lib/python3.12/site-packages/sklearn/utils/validation.py:2739: UserWarning: X does not have valid feature names, but MinMaxScaler was fitted with feature names\n",
      "  warnings.warn(\n",
      "/home/jayaditya/Projects/MediAI/.venv/lib/python3.12/site-packages/sklearn/utils/validation.py:2739: UserWarning: X does not have valid feature names, but RandomForestClassifier was fitted with feature names\n",
      "  warnings.warn(\n"
     ]
    }
   ],
   "source": [
    "import pickle, sys\n",
    "import numpy as np\n",
    "sys.path.insert(0, '../src')\n",
    "from recommendation import get_recommendation\n",
    "\n",
    "# Load trained model\n",
    "model = pickle.load(open(\"../models/diabetes_risk_model.pkl\", \"rb\"))\n",
    "\n",
    "# Load the saved scaler\n",
    "scaler = pickle.load(open(\"../models/scaler.pkl\", \"rb\"))\n",
    "\n",
    "# Sample input (raw values)\n",
    "sample_input = np.array([[0, 85, 75, 15, 100, 22.5, 0.3, 22]])\n",
    "\n",
    "# Apply the same scaling used in training\n",
    "sample_input_scaled = scaler.transform(sample_input)\n",
    "\n",
    "# Make prediction\n",
    "predicted_risk = model.predict(sample_input_scaled)[0]\n",
    "recommendation = get_recommendation(predicted_risk)\n",
    "\n",
    "print(f\"Predicted Risk Level: {predicted_risk}\")\n",
    "print(f\"Health Recommendation: {recommendation}\")"
   ]
  },
  {
   "cell_type": "code",
   "execution_count": null,
   "metadata": {},
   "outputs": [],
   "source": []
  }
 ],
 "metadata": {
  "kernelspec": {
   "display_name": ".venv",
   "language": "python",
   "name": "python3"
  },
  "language_info": {
   "codemirror_mode": {
    "name": "ipython",
    "version": 3
   },
   "file_extension": ".py",
   "mimetype": "text/x-python",
   "name": "python",
   "nbconvert_exporter": "python",
   "pygments_lexer": "ipython3",
   "version": "3.12.3"
  }
 },
 "nbformat": 4,
 "nbformat_minor": 2
}
